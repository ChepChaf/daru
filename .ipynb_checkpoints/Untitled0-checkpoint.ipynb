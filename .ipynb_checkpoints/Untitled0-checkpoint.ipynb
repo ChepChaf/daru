{
 "metadata": {
  "name": "",
  "signature": "sha256:9c5581631466ddadbec9a91d1fb6e88d2b4a5c57a9ffdf3092a1920038b9da66"
 },
 "nbformat": 3,
 "nbformat_minor": 0,
 "worksheets": []
}